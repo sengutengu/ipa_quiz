{
 "cells": [
  {
   "cell_type": "code",
   "execution_count": 2,
   "metadata": {},
   "outputs": [
    {
     "ename": "TypeError",
     "evalue": "'_io.TextIOWrapper' object is not subscriptable",
     "output_type": "error",
     "traceback": [
      "\u001b[1;31m---------------------------------------------------------------------------\u001b[0m",
      "\u001b[1;31mTypeError\u001b[0m                                 Traceback (most recent call last)",
      "Cell \u001b[1;32mIn[2], line 5\u001b[0m\n\u001b[0;32m      1\u001b[0m fh \u001b[38;5;241m=\u001b[39m \u001b[38;5;28mopen\u001b[39m(\u001b[38;5;124m'\u001b[39m\u001b[38;5;124mcmudict-0.7b-ipa.txt\u001b[39m\u001b[38;5;124m'\u001b[39m,\u001b[38;5;124m'\u001b[39m\u001b[38;5;124mr\u001b[39m\u001b[38;5;124m'\u001b[39m, encoding\u001b[38;5;241m=\u001b[39m\u001b[38;5;124m'\u001b[39m\u001b[38;5;124mutf-8\u001b[39m\u001b[38;5;124m'\u001b[39m)\n\u001b[0;32m      3\u001b[0m specialchars \u001b[38;5;241m=\u001b[39m \u001b[38;5;124m'\u001b[39m\u001b[38;5;124m!@#$\u001b[39m\u001b[38;5;124m%\u001b[39m\u001b[38;5;124m^&*()-+\u001b[39m\u001b[38;5;124m\"\u001b[39m\u001b[38;5;130;01m\\'\u001b[39;00m\u001b[38;5;124m,./:1234567890\u001b[39m\u001b[38;5;124m'\u001b[39m\n\u001b[1;32m----> 5\u001b[0m pronunciations \u001b[38;5;241m=\u001b[39m [[line\u001b[38;5;241m.\u001b[39msplit(\u001b[38;5;124m'\u001b[39m\u001b[38;5;130;01m\\t\u001b[39;00m\u001b[38;5;124m'\u001b[39m)[\u001b[38;5;241m0\u001b[39m], line\u001b[38;5;241m.\u001b[39msplit(\u001b[38;5;124m'\u001b[39m\u001b[38;5;130;01m\\t\u001b[39;00m\u001b[38;5;124m'\u001b[39m)[\u001b[38;5;241m1\u001b[39m]\u001b[38;5;241m.\u001b[39mreplace(\u001b[38;5;124m'\u001b[39m\u001b[38;5;124mr\u001b[39m\u001b[38;5;124m'\u001b[39m,\u001b[38;5;124m'\u001b[39m\u001b[38;5;124mɹ\u001b[39m\u001b[38;5;124m'\u001b[39m)\u001b[38;5;241m.\u001b[39mreplace(\u001b[38;5;124m'\u001b[39m\u001b[38;5;124mɝ\u001b[39m\u001b[38;5;124m'\u001b[39m, \u001b[38;5;124m'\u001b[39m\u001b[38;5;124məɹ\u001b[39m\u001b[38;5;124m'\u001b[39m)\u001b[38;5;241m.\u001b[39mrstrip(\u001b[38;5;124m'\u001b[39m\u001b[38;5;130;01m\\n\u001b[39;00m\u001b[38;5;124m'\u001b[39m)] \u001b[38;5;28;01mfor\u001b[39;00m line \u001b[38;5;129;01min\u001b[39;00m \u001b[43mfh\u001b[49m\u001b[43m[\u001b[49m\u001b[38;5;241;43m55\u001b[39;49m\u001b[43m:\u001b[49m\u001b[43m]\u001b[49m \u001b[38;5;28;01mif\u001b[39;00m (\u001b[38;5;129;01mnot\u001b[39;00m(\u001b[38;5;28many\u001b[39m(c \u001b[38;5;129;01min\u001b[39;00m specialchars \u001b[38;5;28;01mfor\u001b[39;00m c \u001b[38;5;129;01min\u001b[39;00m line\u001b[38;5;241m.\u001b[39msplit(\u001b[38;5;124m'\u001b[39m\u001b[38;5;130;01m\\t\u001b[39;00m\u001b[38;5;124m'\u001b[39m)[\u001b[38;5;241m0\u001b[39m])) \u001b[38;5;129;01mand\u001b[39;00m \u001b[38;5;124m'\u001b[39m\u001b[38;5;124m,\u001b[39m\u001b[38;5;124m'\u001b[39m \u001b[38;5;129;01mnot\u001b[39;00m \u001b[38;5;129;01min\u001b[39;00m line\u001b[38;5;241m.\u001b[39msplit(\u001b[38;5;124m'\u001b[39m\u001b[38;5;130;01m\\t\u001b[39;00m\u001b[38;5;124m'\u001b[39m)[\u001b[38;5;241m1\u001b[39m] \u001b[38;5;129;01mand\u001b[39;00m \u001b[38;5;28mlen\u001b[39m(line\u001b[38;5;241m.\u001b[39msplit(\u001b[38;5;124m'\u001b[39m\u001b[38;5;130;01m\\t\u001b[39;00m\u001b[38;5;124m'\u001b[39m)[\u001b[38;5;241m1\u001b[39m])\u001b[38;5;241m<\u001b[39m\u001b[38;5;241m7\u001b[39m)]\n",
      "\u001b[1;31mTypeError\u001b[0m: '_io.TextIOWrapper' object is not subscriptable"
     ]
    }
   ],
   "source": [
    "fh = open('cmudict-0.7b-ipa.txt','r', encoding='utf-8')\n",
    "\n",
    "specialchars = '!@#$%^&*()-+\"\\',./:1234567890'\n",
    "\n",
    "pronunciations = [[line.split('\\t')[0], line.split('\\t')[1].replace('r','ɹ').replace('ɝ', 'əɹ').rstrip('\\n')] for line in fh if not line.startswith(';;;') and (not(any(c in specialchars for c in line.split('\\t')[0])) and ',' not in line.split('\\t')[1] and len(line.split('\\t')[1])<7)]"
   ]
  },
  {
   "cell_type": "code",
   "execution_count": 3,
   "metadata": {
    "scrolled": true
   },
   "outputs": [
    {
     "ename": "NameError",
     "evalue": "name 'pronunciations' is not defined",
     "output_type": "error",
     "traceback": [
      "\u001b[1;31m---------------------------------------------------------------------------\u001b[0m",
      "\u001b[1;31mNameError\u001b[0m                                 Traceback (most recent call last)",
      "Cell \u001b[1;32mIn[3], line 2\u001b[0m\n\u001b[0;32m      1\u001b[0m \u001b[38;5;28;01mfor\u001b[39;00m i \u001b[38;5;129;01min\u001b[39;00m \u001b[38;5;28mrange\u001b[39m(\u001b[38;5;241m10\u001b[39m):\n\u001b[1;32m----> 2\u001b[0m     \u001b[38;5;28mprint\u001b[39m(\u001b[43mpronunciations\u001b[49m[i])\n",
      "\u001b[1;31mNameError\u001b[0m: name 'pronunciations' is not defined"
     ]
    }
   ],
   "source": [
    "for i in range(10):\n",
    "    print(pronunciations[i])"
   ]
  },
  {
   "cell_type": "code",
   "execution_count": 4,
   "metadata": {},
   "outputs": [
    {
     "data": {
      "text/plain": [
       "11490"
      ]
     },
     "execution_count": 4,
     "metadata": {},
     "output_type": "execute_result"
    }
   ],
   "source": [
    "len(pronunciations)"
   ]
  },
  {
   "cell_type": "code",
   "execution_count": 5,
   "metadata": {},
   "outputs": [
    {
     "name": "stdout",
     "output_type": "stream",
     "text": [
      "{'v', 'n', 'θ', ' ', 'ŋ', 'z', 'e', 'ɔ', 'ɑ', 'i', 'ʃ', 'p', 'a', 'b', 'm', 'd', 't', 'ɛ', 'ː', 'h', 's', 'l', 'ˈ', 'f', 'ə', 'ʒ', 'j', 'ɪ', 'o', 'g', 'ɹ', 'æ', 'u', 'ð', 'k', 'w', 'ʊ', 'ʌ'}\n"
     ]
    }
   ],
   "source": [
    "allipa = \" \".join([word[1] for word in pronunciations])\n",
    "print(set(allipa))"
   ]
  },
  {
   "cell_type": "code",
   "execution_count": 6,
   "metadata": {},
   "outputs": [],
   "source": [
    "error_dict = {\n",
    "    'p':['b'], \n",
    "    'b':['p'], \n",
    "    'f':['v'], \n",
    "    'v':['f'], \n",
    "    'ð':['θ', 'th'], \n",
    "    'θ':['ð', 'th'], \n",
    "    't':['d'], \n",
    "    'd':['t'], \n",
    "    's':['z', 'ss'], \n",
    "    'z': ['s', 'zz'], \n",
    "    'ʃ': ['ʒ', 'sh'], \n",
    "    'ʒ': ['ʃ', 'zh'],\n",
    "    'k':['g'], \n",
    "    'g':['k'], \n",
    "    'h':['x'], \n",
    "    'n': ['ŋ','m'], \n",
    "    'm':['n', 'ŋ'], \n",
    "    'ŋ':['n','m'], \n",
    "    'j':['y'], \n",
    "    'w':['u'],\n",
    "    'ɹ':['w', 'r'], \n",
    "    'l':['w'], \n",
    "    'ˌ':['NONE'], \n",
    "    ' ': ['NONE'], \n",
    "    'ː': ['NONE'], \n",
    "    'ˈ':['NONE'],\n",
    "    'ɛ':['e', 'æ', 'ɪ'], \n",
    "    'æ': ['e', 'ɛ', 'a'], \n",
    "    'u':['ʊ', 'ɔ', 'oo'], \n",
    "    'ʌ':['uh','ɔ','o'], \n",
    "    'ʊ':['u','oo'], \n",
    "    'ə':['uh','ʌ'],\n",
    "    'i':['ɪ', 'ee', 'ie'],\n",
    "    'ɑ':['ah', 'æ'],\n",
    "    'a':['ah', 'æ'],\n",
    "    'e':['ɛ', 'ɪ', 'æ'],\n",
    "    'o':['oh', 'ɔ'],\n",
    "    'ɔ':['o'],\n",
    "    'ɪ':['i', 'ie', 'ee']\n",
    "}\n",
    "\n",
    "\n",
    "\n"
   ]
  },
  {
   "cell_type": "code",
   "execution_count": 7,
   "metadata": {},
   "outputs": [],
   "source": [
    "import random"
   ]
  },
  {
   "cell_type": "code",
   "execution_count": 8,
   "metadata": {},
   "outputs": [],
   "source": [
    "def generate_answers(pron):\n",
    "    answer_choices = [pron[:i]+random.choice(error_dict[pron[i]])+pron[i+1:] for i in range(len(pron)) if error_dict[pron[i]] != ['NONE']]\n",
    "    answer_choices.append(pron)\n",
    "    answer_choices = list(set(answer_choices))\n",
    "    random.shuffle(answer_choices)\n",
    "    return answer_choices"
   ]
  },
  {
   "cell_type": "code",
   "execution_count": 9,
   "metadata": {},
   "outputs": [
    {
     "data": {
      "text/plain": [
       "['əˈbʌz', 'əˈpʌz', 'ʌˈbʌz', 'əˈbʌs', 'əˈbɔz']"
      ]
     },
     "execution_count": 9,
     "metadata": {},
     "output_type": "execute_result"
    }
   ],
   "source": [
    "generate_answers('əˈbʌz')"
   ]
  },
  {
   "cell_type": "code",
   "execution_count": 10,
   "metadata": {},
   "outputs": [],
   "source": [
    "all_answers = [[word[0], word[1], generate_answers(word[1])] for word in pronunciations]"
   ]
  },
  {
   "cell_type": "code",
   "execution_count": 11,
   "metadata": {},
   "outputs": [
    {
     "name": "stdout",
     "output_type": "stream",
     "text": [
      "['AAH', 'ˈɑː', ['ˈɑː', 'ˈahː']]\n",
      "['AAKER', 'ˈɑːkəɹ', ['ˈɑːkʌɹ', 'ˈɑːkəw', 'ˈɑːgəɹ', 'ˈɑːkəɹ', 'ˈahːkəɹ']]\n",
      "['AARGH', 'ˈɑːɹg', ['ˈɑːɹk', 'ˈɑːrg', 'ˈahːɹg', 'ˈɑːɹg']]\n",
      "['AARON', 'ˈɛɹən', ['ˈeɹən', 'ˈɛɹʌn', 'ˈɛɹəm', 'ˈɛɹən', 'ˈɛwən']]\n",
      "['AASE', 'ˈɑːs', ['ˈahːs', 'ˈɑːz', 'ˈɑːs']]\n",
      "['AB', 'ˈæb', ['ˈæp', 'ˈæb', 'ˈab']]\n",
      "['ABACK', 'əˈbæk', ['əˈbæk', 'əˈbæg', 'əˈpæk', 'uhˈbæk', 'əˈbek']]\n",
      "['ABAIR', 'əˈbɛɹ', ['əˈbeɹ', 'əˈbɛr', 'əˈbɛɹ', 'əˈpɛɹ', 'ʌˈbɛɹ']]\n",
      "['ABASH', 'əˈbæʃ', ['əˈbæʒ', 'əˈbæʃ', 'uhˈbæʃ', 'əˈbɛʃ', 'əˈpæʃ']]\n",
      "['ABBA', 'ˈæbə', ['ˈebə', 'ˈæbə', 'ˈæpə', 'ˈæbuh']]\n"
     ]
    }
   ],
   "source": [
    "for i in range(10):\n",
    "    print(all_answers[i])"
   ]
  },
  {
   "cell_type": "code",
   "execution_count": 12,
   "metadata": {},
   "outputs": [],
   "source": [
    "def is_last(alist,choice):\n",
    "    if choice == alist[-1]:\n",
    "        return True\n",
    "    else:\n",
    "        return False"
   ]
  },
  {
   "cell_type": "code",
   "execution_count": 14,
   "metadata": {},
   "outputs": [],
   "source": [
    "with open('answer_choices.json', 'w+', encoding='utf-8') as js_file:\n",
    "    js_file.write('[\\n')\n",
    "    for entry in all_answers:\n",
    "        js_file.write('{ \"question\": \"How is the word \\''+entry[0]+'\\' phonemically transcribed in IPA?\",')\n",
    "        js_file.write('\"answers\":[')\n",
    "        for option in entry[2]:\n",
    "            if option == entry[1]:\n",
    "                js_file.write('{ \"text\":\"' +option+ '\",\"correct\":true}')\n",
    "            else:\n",
    "                js_file.write('{ \"text\":\"' +option+ '\",\"correct\":false}')\n",
    "            if is_last(entry[2], option):\n",
    "                js_file.write('')\n",
    "            else:\n",
    "                js_file.write(',')\n",
    "        if is_last(all_answers, entry):\n",
    "            js_file.write(']}')\n",
    "        else:    \n",
    "            js_file.write(']},\\n')\n",
    "    js_file.write('\\n]')"
   ]
  },
  {
   "cell_type": "code",
   "execution_count": null,
   "metadata": {},
   "outputs": [],
   "source": []
  }
 ],
 "metadata": {
  "kernelspec": {
   "display_name": "Python 3 (ipykernel)",
   "language": "python",
   "name": "python3"
  },
  "language_info": {
   "codemirror_mode": {
    "name": "ipython",
    "version": 3
   },
   "file_extension": ".py",
   "mimetype": "text/x-python",
   "name": "python",
   "nbconvert_exporter": "python",
   "pygments_lexer": "ipython3",
   "version": "3.10.5"
  }
 },
 "nbformat": 4,
 "nbformat_minor": 4
}
