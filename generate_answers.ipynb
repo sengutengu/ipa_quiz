{
 "cells": [
  {
   "cell_type": "code",
   "execution_count": 2,
   "metadata": {},
   "outputs": [],
   "source": [
    "fh = open('cmudict-0.7b-ipa.txt','r')\n",
    "\n",
    "specialchars = '!@#$%^&*()-+\"\\',./:1234567890'\n",
    "\n",
    "pronunciations = [[line.split('\\t')[0], line.split('\\t')[1].replace('ɝ', 'ər').rstrip('\\n')] for line in fh if (not(any(c in specialchars for c in line.split('\\t')[0])) and ',' not in line.split('\\t')[1] and len(line.split('\\t')[1])<7)]"
   ]
  },
  {
   "cell_type": "code",
   "execution_count": 4,
   "metadata": {
    "scrolled": true
   },
   "outputs": [
    {
     "name": "stdout",
     "output_type": "stream",
     "text": [
      "['AAH', 'ˈɑː']\n",
      "['AAKER', 'ˈɑːkər']\n",
      "['AARGH', 'ˈɑːrg']\n",
      "['AARON', 'ˈɛrən']\n",
      "['AASE', 'ˈɑːs']\n",
      "['AB', 'ˈæb']\n",
      "['ABACK', 'əˈbæk']\n",
      "['ABAIR', 'əˈbɛr']\n",
      "['ABASH', 'əˈbæʃ']\n",
      "['ABBA', 'ˈæbə']\n"
     ]
    }
   ],
   "source": [
    "for i in range(10):\n",
    "    print(pronunciations[i])"
   ]
  },
  {
   "cell_type": "code",
   "execution_count": 5,
   "metadata": {},
   "outputs": [
    {
     "data": {
      "text/plain": [
       "11490"
      ]
     },
     "execution_count": 5,
     "metadata": {},
     "output_type": "execute_result"
    }
   ],
   "source": [
    "len(pronunciations)"
   ]
  },
  {
   "cell_type": "code",
   "execution_count": 6,
   "metadata": {},
   "outputs": [
    {
     "name": "stdout",
     "output_type": "stream",
     "text": [
      "{'ː', 'w', 'p', 'v', 'ð', ' ', 'æ', 'θ', 'm', 'f', 'ɪ', 'ʒ', 'ʃ', 'e', 'r', 'o', 'z', 'ɛ', 'j', 'b', 'a', 'd', 'ŋ', 'ˈ', 'i', 'ə', 'h', 'k', 'ɑ', 'u', 'g', 'n', 's', 'ʌ', 'ɔ', 'l', 'ʊ', 't'}\n"
     ]
    }
   ],
   "source": [
    "allipa = \" \".join([word[1] for word in pronunciations])\n",
    "print(set(allipa))"
   ]
  },
  {
   "cell_type": "code",
   "execution_count": 7,
   "metadata": {},
   "outputs": [],
   "source": [
    "error_dict = {\n",
    "    'p':['b'], \n",
    "    'b':['p'], \n",
    "    'f':['v'], \n",
    "    'v':['f'], \n",
    "    'ð':['θ', 'th'], \n",
    "    'θ':['ð', 'th'], \n",
    "    't':['d'], \n",
    "    'd':['t'], \n",
    "    's':['z', 'ss'], \n",
    "    'z': ['s', 'zz'], \n",
    "    'ʃ': ['ʒ', 'sh'], \n",
    "    'ʒ': ['ʃ', 'zh'],\n",
    "    'k':['g'], \n",
    "    'g':['k'], \n",
    "    'h':['x'], \n",
    "    'n': ['ŋ','m'], \n",
    "    'm':['n', 'ŋ'], \n",
    "    'ŋ':['n','m'], \n",
    "    'j':['y'], \n",
    "    'w':['u'],\n",
    "    'r':['w'], \n",
    "    'l':['w'], \n",
    "    'ˌ':['NONE'], \n",
    "    ' ': ['NONE'], \n",
    "    'ː': ['NONE'], \n",
    "    'ˈ':['NONE'],\n",
    "    'ɛ':['e', 'æ', 'ɪ'], \n",
    "    'æ': ['e', 'ɛ', 'a'], \n",
    "    'u':['ʊ', 'ɔ', 'oo'], \n",
    "    'ʌ':['uh','ɔ','o'], \n",
    "    'ʊ':['u','oo'], \n",
    "    'ə':['uh','ʌ'],\n",
    "    'i':['ɪ', 'ee', 'ie'],\n",
    "    'ɑ':['ah', 'æ'],\n",
    "    'a':['ah', 'æ'],\n",
    "    'e':['ɛ', 'ɪ', 'æ'],\n",
    "    'o':['oh', 'ɔ'],\n",
    "    'ɔ':['o'],\n",
    "    'ɪ':['i', 'ie', 'ee']\n",
    "}\n",
    "\n",
    "\n",
    "\n"
   ]
  },
  {
   "cell_type": "code",
   "execution_count": 8,
   "metadata": {},
   "outputs": [],
   "source": [
    "import random"
   ]
  },
  {
   "cell_type": "code",
   "execution_count": 9,
   "metadata": {},
   "outputs": [],
   "source": [
    "def generate_answers(pron):\n",
    "    answer_choices = [pron[:i]+random.choice(error_dict[pron[i]])+pron[i+1:] for i in range(len(pron)) if error_dict[pron[i]] != ['NONE']]\n",
    "    answer_choices.append(pron)\n",
    "    answer_choices = list(set(answer_choices))\n",
    "    random.shuffle(answer_choices)\n",
    "    return answer_choices"
   ]
  },
  {
   "cell_type": "code",
   "execution_count": 10,
   "metadata": {},
   "outputs": [
    {
     "data": {
      "text/plain": [
       "['əˈbɔz', 'əˈbʌz', 'ʌˈbʌz', 'əˈbʌzz', 'əˈpʌz']"
      ]
     },
     "execution_count": 10,
     "metadata": {},
     "output_type": "execute_result"
    }
   ],
   "source": [
    "generate_answers('əˈbʌz')"
   ]
  },
  {
   "cell_type": "code",
   "execution_count": 11,
   "metadata": {},
   "outputs": [],
   "source": [
    "all_answers = [[word[0], word[1], generate_answers(word[1])] for word in pronunciations]"
   ]
  },
  {
   "cell_type": "code",
   "execution_count": 12,
   "metadata": {},
   "outputs": [
    {
     "name": "stdout",
     "output_type": "stream",
     "text": [
      "['AAH', 'ˈɑː', ['ˈɑː', 'ˈahː']]\n",
      "['AAKER', 'ˈɑːkər', ['ˈɑːkər', 'ˈɑːgər', 'ˈæːkər', 'ˈɑːkʌr', 'ˈɑːkəw']]\n",
      "['AARGH', 'ˈɑːrg', ['ˈæːrg', 'ˈɑːrk', 'ˈɑːrg', 'ˈɑːwg']]\n",
      "['AARON', 'ˈɛrən', ['ˈɛwən', 'ˈɛrʌn', 'ˈɛrən', 'ˈærən', 'ˈɛrəŋ']]\n",
      "['AASE', 'ˈɑːs', ['ˈahːs', 'ˈɑːz', 'ˈɑːs']]\n",
      "['AB', 'ˈæb', ['ˈeb', 'ˈæp', 'ˈæb']]\n",
      "['ABACK', 'əˈbæk', ['əˈbɛk', 'əˈbæk', 'əˈbæg', 'əˈpæk', 'uhˈbæk']]\n",
      "['ABAIR', 'əˈbɛr', ['əˈpɛr', 'ʌˈbɛr', 'əˈbɛw', 'əˈber', 'əˈbɛr']]\n",
      "['ABASH', 'əˈbæʃ', ['uhˈbæʃ', 'əˈbæʃ', 'əˈbaʃ', 'əˈpæʃ', 'əˈbæʒ']]\n",
      "['ABBA', 'ˈæbə', ['ˈæbʌ', 'ˈæbə', 'ˈæpə', 'ˈɛbə']]\n"
     ]
    }
   ],
   "source": [
    "for i in range(10):\n",
    "    print(all_answers[i])"
   ]
  },
  {
   "cell_type": "code",
   "execution_count": 13,
   "metadata": {},
   "outputs": [],
   "source": [
    "with open('answer_choices.json', 'w+') as js_file:\n",
    "    for entry in all_answers:\n",
    "        js_file.write('{ question: \"How is the word \\''+entry[0]+'\\' transcribed?\",')\n",
    "        js_file.write('answers: [')\n",
    "        for option in entry[2]:\n",
    "            if option == entry[1]:\n",
    "                js_file.write('{ text:\"' +option+ '\", correct: true },')\n",
    "            else:\n",
    "                js_file.write('{ text:\"' +option+ '\", correct: false },')\n",
    "                              \n",
    "        js_file.write(']},\\n')"
   ]
  }
 ],
 "metadata": {
  "kernelspec": {
   "display_name": "Python 3",
   "language": "python",
   "name": "python3"
  },
  "language_info": {
   "codemirror_mode": {
    "name": "ipython",
    "version": 3
   },
   "file_extension": ".py",
   "mimetype": "text/x-python",
   "name": "python",
   "nbconvert_exporter": "python",
   "pygments_lexer": "ipython3",
   "version": "3.8.5"
  }
 },
 "nbformat": 4,
 "nbformat_minor": 4
}
